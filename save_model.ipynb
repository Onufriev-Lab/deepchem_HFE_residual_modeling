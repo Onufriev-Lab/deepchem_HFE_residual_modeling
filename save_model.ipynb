{
 "cells": [
  {
   "cell_type": "code",
   "execution_count": 1,
   "id": "ce885fb3-7f36-4984-91f8-83af564d36d5",
   "metadata": {},
   "outputs": [],
   "source": [
    "import os\n",
    "os.environ['TF_CPP_MIN_LOG_LEVEL'] = '4' \n",
    "\n",
    "import deepchem as dc\n",
    "import pandas as pd\n",
    "import pickle\n",
    "import numpy as np\n",
    "import warnings\n",
    "\n",
    "from utils import *\n",
    "warnings.filterwarnings('ignore')"
   ]
  },
  {
   "cell_type": "code",
   "execution_count": 2,
   "id": "15c958c2-e4a7-4023-b140-4d7c55a3864d",
   "metadata": {},
   "outputs": [],
   "source": [
    "# FreeSolve Database\n",
    "freeSolve = pickle.load(open('dicts/consol.pickle', 'rb')) \n",
    "\n",
    "expt, tip, smiles, gbn, igb, asc, zap, cha, bestgb,nul = [], [], [], [], [], [], [], [], [],[]\n",
    "for i in freeSolve.keys():\n",
    "    expt.append(freeSolve[i]['expt'])\n",
    "    smiles.append(freeSolve[i]['smiles'])\n",
    "    tip.append(freeSolve[i]['calc'])\n",
    "    gbn.append(freeSolve[i]['gbnsr6'])\n",
    "    igb.append(freeSolve[i]['igb5'])\n",
    "    asc.append(freeSolve[i]['asc'])\n",
    "    zap.append(freeSolve[i]['zap9'])\n",
    "    cha.append(freeSolve[i]['cha'])\n",
    "    bestgb.append(freeSolve[i]['bestgb'])\n",
    "    nul.append(0)\n",
    "feats = {'tip3p' : tip, 'gbnsr6' : gbn, 'igb5' : igb, 'asc' : asc, \n",
    "         'null' : nul, 'zap9' : zap, 'cha' : cha,'bestgb':bestgb}"
   ]
  },
  {
   "cell_type": "code",
   "execution_count": 3,
   "id": "75726ba7-b407-4129-a97b-1548cda2b364",
   "metadata": {},
   "outputs": [],
   "source": [
    "np.random.seed(10)\n",
    "b = list(psuedoScramble(expt, bins=int(len(expt)/10)))\n",
    "\n",
    "val = []\n",
    "for i in range(len(b)//8):\n",
    "    #j = np.random.randint(0, len(b))\n",
    "    j = i*7\n",
    "    val.append(b.pop(j))\n",
    "np.mean(b)\n",
    "len(b)\n",
    "\n",
    "params = {'epochs' : 500, 'dropout' : 0.4, 'batch_normalize' : False, 'batch_size' : 100, 'feat' : 'tip3p', \n",
    "           'kfold' : -1, 'dense_layer_size' : 27, 'graph_conv_layers' : [32, 32]}\n",
    "\n",
    "# print(params['feat'])\n",
    "feat = feats[params['feat']]\n",
    "part = (b, val)\n",
    "smiles = partition(smiles, part)\n",
    "expt = partition(expt, part)\n",
    "feat = partition(feat, part)"
   ]
  },
  {
   "cell_type": "code",
   "execution_count": 54,
   "id": "dd6e75ec-8151-4a90-a62b-fac74cd1d3ad",
   "metadata": {},
   "outputs": [
    {
     "name": "stdout",
     "output_type": "stream",
     "text": [
      "0.6987465489430382 0.9594157504589584\n",
      "CPU times: user 35.7 s, sys: 5.34 s, total: 41.1 s\n",
      "Wall time: 16.5 s\n"
     ]
    }
   ],
   "source": [
    "%%time\n",
    "featurizer = dc.feat.ConvMolFeaturizer(per_atom_fragmentation=False)\n",
    "train = dc.data.NumpyDataset(X=featurizer.featurize(smiles[0]), \n",
    "                             y=np.array(np.array(expt[0])-np.array(feat[0])).transpose())\n",
    "# model_dir = tempfile.mkdtemp()\n",
    "model = dc.models.GraphConvModel(n_tasks=1, graph_conv_layers=params['graph_conv_layers'],\n",
    "                                     mode='regression', dropout=params['dropout'], \n",
    "                                     batch_normalize=params['batch_normalize'], \n",
    "                                     batch_size=params['batch_size'], \n",
    "                                     dense_layer_size=params['dense_layer_size'],\n",
    "                                     model_dir = './model/'\n",
    "                                )\n",
    "model.fit(train, nb_epoch=params['epochs'])\n",
    "p = ()\n",
    "final = ()\n",
    "for i in range(len(part)):\n",
    "    p += (np.array(model.predict_on_batch(featurizer.featurize(smiles[i])).flatten()),)\n",
    "    final+=(list(p[i]+feat[i]),)\n",
    "print(rmsd(expt[0],final[0]),rmsd(expt[1],final[1]))"
   ]
  },
  {
   "cell_type": "code",
   "execution_count": 4,
   "id": "99cce72f-a10c-4b16-a5f3-79038686c2f3",
   "metadata": {},
   "outputs": [],
   "source": [
    "warnings.filterwarnings('ignore')\n",
    "featurizer = dc.feat.ConvMolFeaturizer(per_atom_fragmentation=False)\n",
    "reloaded_model = dc.models.GraphConvModel(n_tasks=1, graph_conv_layers=params['graph_conv_layers'],\n",
    "                                     mode='regression', dropout=params['dropout'], \n",
    "                                     batch_normalize=params['batch_normalize'], \n",
    "                                     batch_size=params['batch_size'], \n",
    "                                     dense_layer_size=params['dense_layer_size'],\n",
    "                                     model_dir = './model/'\n",
    "                                )\n",
    "reloaded_model.restore()\n",
    "\n",
    "# print(rmsd(expt[0],final[0]),rmsd(expt[1],final[1]))"
   ]
  },
  {
   "cell_type": "code",
   "execution_count": 5,
   "id": "5685c9ca-8977-4f50-a8ea-58f02647ad64",
   "metadata": {},
   "outputs": [
    {
     "name": "stdout",
     "output_type": "stream",
     "text": [
      "0.6987465489430382 0.9594157504589584\n"
     ]
    }
   ],
   "source": [
    "p = ()\n",
    "final = ()\n",
    "for i in range(len(part)):\n",
    "    p += (np.array(reloaded_model.predict_on_batch(featurizer.featurize(smiles[i])).flatten()),)\n",
    "    final+=(list(p[i]+feat[i]),)\n",
    "print(rmsd(expt[0],final[0]),rmsd(expt[1],final[1]))"
   ]
  },
  {
   "cell_type": "code",
   "execution_count": 44,
   "id": "6c0b5dfc-cfb0-43bb-9af4-543c75293df2",
   "metadata": {},
   "outputs": [
    {
     "ename": "ValueError",
     "evalue": "in user code:\n\n    File \"/home/lhelder/anaconda3/envs/chem/lib/python3.9/site-packages/keras/saving/saving_utils.py\", line 138, in _wrapped_model  *\n        outputs = model(*args, **kwargs)\n    File \"/home/lhelder/anaconda3/envs/chem/lib/python3.9/site-packages/keras/utils/traceback_utils.py\", line 67, in error_handler  **\n        raise e.with_traceback(filtered_tb) from None\n    File \"/tmp/__autograph_generated_fileicnzgxvd.py\", line 67, in tf__call\n        ag__.for_stmt(ag__.converted_call(ag__.ld(range), (ag__.converted_call(ag__.ld(len), (ag__.ld(self).graph_convs,), None, fscope),), None, fscope), None, loop_body, get_state_2, set_state_2, ('in_layer',), {'iterate_names': 'i'})\n    File \"/tmp/__autograph_generated_fileicnzgxvd.py\", line 28, in loop_body\n        gc1 = ag__.converted_call(ag__.ld(self).graph_convs[ag__.ld(i)], (ag__.ld(gc_in),), None, fscope)\n    File \"/tmp/__autograph_generated_filedan7likl.py\", line 17, in tf__call\n        split_features = ag__.converted_call(ag__.ld(tf).split, (ag__.ld(atom_features), ag__.ld(deg_slice)[:, 1]), None, fscope)\n\n    ValueError: Exception encountered when calling layer \"private__graph_conv_keras_model_8\" (type _GraphConvKerasModel).\n    \n    in user code:\n    \n        File \"/home/lhelder/anaconda3/envs/chem/lib/python3.9/site-packages/deepchem/models/graph_models.py\", line 854, in call  *\n            gc1 = self.graph_convs[i](gc_in)\n        File \"/home/lhelder/anaconda3/envs/chem/lib/python3.9/site-packages/keras/utils/traceback_utils.py\", line 67, in error_handler  **\n            raise e.with_traceback(filtered_tb) from None\n        File \"/tmp/__autograph_generated_filedan7likl.py\", line 17, in tf__call\n            split_features = ag__.converted_call(ag__.ld(tf).split, (ag__.ld(atom_features), ag__.ld(deg_slice)[:, 1]), None, fscope)\n    \n        ValueError: Exception encountered when calling layer \"graph_conv_16\" (type GraphConv).\n        \n        in user code:\n        \n            File \"/home/lhelder/anaconda3/envs/chem/lib/python3.9/site-packages/deepchem/models/layers.py\", line 174, in call  *\n                split_features = tf.split(atom_features, deg_slice[:, 1])\n        \n            ValueError: Cannot infer argument `num` from shape Tensor(\"private__graph_conv_keras_model_8/graph_conv_16/strided_slice:0\", shape=(None,), dtype=int32)\n        \n        \n        Call arguments received by layer \"graph_conv_16\" (type GraphConv):\n          • inputs=['tf.Tensor(shape=(None, 75), dtype=float32)', 'tf.Tensor(shape=(None, 2), dtype=int32)', 'tf.Tensor(shape=(None,), dtype=int32)', 'tf.Tensor(shape=(None, 1), dtype=int32)', 'tf.Tensor(shape=(None, 2), dtype=int32)', 'tf.Tensor(shape=(None, 3), dtype=int32)', 'tf.Tensor(shape=(None, 4), dtype=int32)', 'tf.Tensor(shape=(None, 5), dtype=int32)', 'tf.Tensor(shape=(None, 6), dtype=int32)', 'tf.Tensor(shape=(None, 7), dtype=int32)', 'tf.Tensor(shape=(None, 8), dtype=int32)', 'tf.Tensor(shape=(None, 9), dtype=int32)', 'tf.Tensor(shape=(None, 10), dtype=int32)']\n    \n    \n    Call arguments received by layer \"private__graph_conv_keras_model_8\" (type _GraphConvKerasModel):\n      • inputs=['tf.Tensor(shape=(None, 75), dtype=float32)', 'tf.Tensor(shape=(None, 2), dtype=int64)', 'tf.Tensor(shape=(None,), dtype=int32)', 'tf.Tensor(shape=(None,), dtype=int64)', 'tf.Tensor(shape=(None, 1), dtype=int32)', 'tf.Tensor(shape=(None, 2), dtype=int32)', 'tf.Tensor(shape=(None, 3), dtype=int32)', 'tf.Tensor(shape=(None, 4), dtype=int32)', 'tf.Tensor(shape=(None, 5), dtype=int32)', 'tf.Tensor(shape=(None, 6), dtype=int32)', 'tf.Tensor(shape=(None, 7), dtype=int32)', 'tf.Tensor(shape=(None, 8), dtype=int32)', 'tf.Tensor(shape=(None, 9), dtype=int32)', 'tf.Tensor(shape=(None, 10), dtype=int32)']\n      • training=False\n",
     "output_type": "error",
     "traceback": [
      "\u001b[0;31m---------------------------------------------------------------------------\u001b[0m",
      "\u001b[0;31mValueError\u001b[0m                                Traceback (most recent call last)",
      "Cell \u001b[0;32mIn[44], line 6\u001b[0m\n\u001b[1;32m      3\u001b[0m \u001b[38;5;28;01mimport\u001b[39;00m \u001b[38;5;21;01mdeepchem\u001b[39;00m \u001b[38;5;28;01mas\u001b[39;00m \u001b[38;5;21;01mdc\u001b[39;00m\n\u001b[1;32m      4\u001b[0m \u001b[38;5;28;01mimport\u001b[39;00m \u001b[38;5;21;01mjoblib\u001b[39;00m\n\u001b[0;32m----> 6\u001b[0m \u001b[43mjoblib\u001b[49m\u001b[38;5;241;43m.\u001b[39;49m\u001b[43mdump\u001b[49m\u001b[43m(\u001b[49m\u001b[43mmodel\u001b[49m\u001b[43m,\u001b[49m\u001b[38;5;124;43m'\u001b[39;49m\u001b[38;5;124;43mmodel.pickle\u001b[39;49m\u001b[38;5;124;43m'\u001b[39;49m\u001b[43m)\u001b[49m\n",
      "File \u001b[0;32m~/anaconda3/envs/chem/lib/python3.9/site-packages/joblib/numpy_pickle.py:482\u001b[0m, in \u001b[0;36mdump\u001b[0;34m(value, filename, compress, protocol, cache_size)\u001b[0m\n\u001b[1;32m    480\u001b[0m \u001b[38;5;28;01melif\u001b[39;00m is_filename:\n\u001b[1;32m    481\u001b[0m     \u001b[38;5;28;01mwith\u001b[39;00m \u001b[38;5;28mopen\u001b[39m(filename, \u001b[38;5;124m'\u001b[39m\u001b[38;5;124mwb\u001b[39m\u001b[38;5;124m'\u001b[39m) \u001b[38;5;28;01mas\u001b[39;00m f:\n\u001b[0;32m--> 482\u001b[0m         \u001b[43mNumpyPickler\u001b[49m\u001b[43m(\u001b[49m\u001b[43mf\u001b[49m\u001b[43m,\u001b[49m\u001b[43m \u001b[49m\u001b[43mprotocol\u001b[49m\u001b[38;5;241;43m=\u001b[39;49m\u001b[43mprotocol\u001b[49m\u001b[43m)\u001b[49m\u001b[38;5;241;43m.\u001b[39;49m\u001b[43mdump\u001b[49m\u001b[43m(\u001b[49m\u001b[43mvalue\u001b[49m\u001b[43m)\u001b[49m\n\u001b[1;32m    483\u001b[0m \u001b[38;5;28;01melse\u001b[39;00m:\n\u001b[1;32m    484\u001b[0m     NumpyPickler(filename, protocol\u001b[38;5;241m=\u001b[39mprotocol)\u001b[38;5;241m.\u001b[39mdump(value)\n",
      "File \u001b[0;32m~/anaconda3/envs/chem/lib/python3.9/pickle.py:487\u001b[0m, in \u001b[0;36m_Pickler.dump\u001b[0;34m(self, obj)\u001b[0m\n\u001b[1;32m    485\u001b[0m \u001b[38;5;28;01mif\u001b[39;00m \u001b[38;5;28mself\u001b[39m\u001b[38;5;241m.\u001b[39mproto \u001b[38;5;241m>\u001b[39m\u001b[38;5;241m=\u001b[39m \u001b[38;5;241m4\u001b[39m:\n\u001b[1;32m    486\u001b[0m     \u001b[38;5;28mself\u001b[39m\u001b[38;5;241m.\u001b[39mframer\u001b[38;5;241m.\u001b[39mstart_framing()\n\u001b[0;32m--> 487\u001b[0m \u001b[38;5;28;43mself\u001b[39;49m\u001b[38;5;241;43m.\u001b[39;49m\u001b[43msave\u001b[49m\u001b[43m(\u001b[49m\u001b[43mobj\u001b[49m\u001b[43m)\u001b[49m\n\u001b[1;32m    488\u001b[0m \u001b[38;5;28mself\u001b[39m\u001b[38;5;241m.\u001b[39mwrite(STOP)\n\u001b[1;32m    489\u001b[0m \u001b[38;5;28mself\u001b[39m\u001b[38;5;241m.\u001b[39mframer\u001b[38;5;241m.\u001b[39mend_framing()\n",
      "File \u001b[0;32m~/anaconda3/envs/chem/lib/python3.9/site-packages/joblib/numpy_pickle.py:284\u001b[0m, in \u001b[0;36mNumpyPickler.save\u001b[0;34m(self, obj)\u001b[0m\n\u001b[1;32m    281\u001b[0m     wrapper\u001b[38;5;241m.\u001b[39mwrite_array(obj, \u001b[38;5;28mself\u001b[39m)\n\u001b[1;32m    282\u001b[0m     \u001b[38;5;28;01mreturn\u001b[39;00m\n\u001b[0;32m--> 284\u001b[0m \u001b[38;5;28;01mreturn\u001b[39;00m \u001b[43mPickler\u001b[49m\u001b[38;5;241;43m.\u001b[39;49m\u001b[43msave\u001b[49m\u001b[43m(\u001b[49m\u001b[38;5;28;43mself\u001b[39;49m\u001b[43m,\u001b[49m\u001b[43m \u001b[49m\u001b[43mobj\u001b[49m\u001b[43m)\u001b[49m\n",
      "File \u001b[0;32m~/anaconda3/envs/chem/lib/python3.9/pickle.py:603\u001b[0m, in \u001b[0;36m_Pickler.save\u001b[0;34m(self, obj, save_persistent_id)\u001b[0m\n\u001b[1;32m    599\u001b[0m     \u001b[38;5;28;01mraise\u001b[39;00m PicklingError(\u001b[38;5;124m\"\u001b[39m\u001b[38;5;124mTuple returned by \u001b[39m\u001b[38;5;132;01m%s\u001b[39;00m\u001b[38;5;124m must have \u001b[39m\u001b[38;5;124m\"\u001b[39m\n\u001b[1;32m    600\u001b[0m                         \u001b[38;5;124m\"\u001b[39m\u001b[38;5;124mtwo to six elements\u001b[39m\u001b[38;5;124m\"\u001b[39m \u001b[38;5;241m%\u001b[39m reduce)\n\u001b[1;32m    602\u001b[0m \u001b[38;5;66;03m# Save the reduce() output and finally memoize the object\u001b[39;00m\n\u001b[0;32m--> 603\u001b[0m \u001b[38;5;28;43mself\u001b[39;49m\u001b[38;5;241;43m.\u001b[39;49m\u001b[43msave_reduce\u001b[49m\u001b[43m(\u001b[49m\u001b[43mobj\u001b[49m\u001b[38;5;241;43m=\u001b[39;49m\u001b[43mobj\u001b[49m\u001b[43m,\u001b[49m\u001b[43m \u001b[49m\u001b[38;5;241;43m*\u001b[39;49m\u001b[43mrv\u001b[49m\u001b[43m)\u001b[49m\n",
      "File \u001b[0;32m~/anaconda3/envs/chem/lib/python3.9/pickle.py:717\u001b[0m, in \u001b[0;36m_Pickler.save_reduce\u001b[0;34m(self, func, args, state, listitems, dictitems, state_setter, obj)\u001b[0m\n\u001b[1;32m    715\u001b[0m \u001b[38;5;28;01mif\u001b[39;00m state \u001b[38;5;129;01mis\u001b[39;00m \u001b[38;5;129;01mnot\u001b[39;00m \u001b[38;5;28;01mNone\u001b[39;00m:\n\u001b[1;32m    716\u001b[0m     \u001b[38;5;28;01mif\u001b[39;00m state_setter \u001b[38;5;129;01mis\u001b[39;00m \u001b[38;5;28;01mNone\u001b[39;00m:\n\u001b[0;32m--> 717\u001b[0m         \u001b[43msave\u001b[49m\u001b[43m(\u001b[49m\u001b[43mstate\u001b[49m\u001b[43m)\u001b[49m\n\u001b[1;32m    718\u001b[0m         write(BUILD)\n\u001b[1;32m    719\u001b[0m     \u001b[38;5;28;01melse\u001b[39;00m:\n\u001b[1;32m    720\u001b[0m         \u001b[38;5;66;03m# If a state_setter is specified, call it instead of load_build\u001b[39;00m\n\u001b[1;32m    721\u001b[0m         \u001b[38;5;66;03m# to update obj's with its previous state.\u001b[39;00m\n\u001b[1;32m    722\u001b[0m         \u001b[38;5;66;03m# First, push state_setter and its tuple of expected arguments\u001b[39;00m\n\u001b[1;32m    723\u001b[0m         \u001b[38;5;66;03m# (obj, state) onto the stack.\u001b[39;00m\n",
      "File \u001b[0;32m~/anaconda3/envs/chem/lib/python3.9/site-packages/joblib/numpy_pickle.py:284\u001b[0m, in \u001b[0;36mNumpyPickler.save\u001b[0;34m(self, obj)\u001b[0m\n\u001b[1;32m    281\u001b[0m     wrapper\u001b[38;5;241m.\u001b[39mwrite_array(obj, \u001b[38;5;28mself\u001b[39m)\n\u001b[1;32m    282\u001b[0m     \u001b[38;5;28;01mreturn\u001b[39;00m\n\u001b[0;32m--> 284\u001b[0m \u001b[38;5;28;01mreturn\u001b[39;00m \u001b[43mPickler\u001b[49m\u001b[38;5;241;43m.\u001b[39;49m\u001b[43msave\u001b[49m\u001b[43m(\u001b[49m\u001b[38;5;28;43mself\u001b[39;49m\u001b[43m,\u001b[49m\u001b[43m \u001b[49m\u001b[43mobj\u001b[49m\u001b[43m)\u001b[49m\n",
      "File \u001b[0;32m~/anaconda3/envs/chem/lib/python3.9/pickle.py:560\u001b[0m, in \u001b[0;36m_Pickler.save\u001b[0;34m(self, obj, save_persistent_id)\u001b[0m\n\u001b[1;32m    558\u001b[0m f \u001b[38;5;241m=\u001b[39m \u001b[38;5;28mself\u001b[39m\u001b[38;5;241m.\u001b[39mdispatch\u001b[38;5;241m.\u001b[39mget(t)\n\u001b[1;32m    559\u001b[0m \u001b[38;5;28;01mif\u001b[39;00m f \u001b[38;5;129;01mis\u001b[39;00m \u001b[38;5;129;01mnot\u001b[39;00m \u001b[38;5;28;01mNone\u001b[39;00m:\n\u001b[0;32m--> 560\u001b[0m     \u001b[43mf\u001b[49m\u001b[43m(\u001b[49m\u001b[38;5;28;43mself\u001b[39;49m\u001b[43m,\u001b[49m\u001b[43m \u001b[49m\u001b[43mobj\u001b[49m\u001b[43m)\u001b[49m  \u001b[38;5;66;03m# Call unbound method with explicit self\u001b[39;00m\n\u001b[1;32m    561\u001b[0m     \u001b[38;5;28;01mreturn\u001b[39;00m\n\u001b[1;32m    563\u001b[0m \u001b[38;5;66;03m# Check private dispatch table if any, or else\u001b[39;00m\n\u001b[1;32m    564\u001b[0m \u001b[38;5;66;03m# copyreg.dispatch_table\u001b[39;00m\n",
      "File \u001b[0;32m~/anaconda3/envs/chem/lib/python3.9/pickle.py:971\u001b[0m, in \u001b[0;36m_Pickler.save_dict\u001b[0;34m(self, obj)\u001b[0m\n\u001b[1;32m    968\u001b[0m     \u001b[38;5;28mself\u001b[39m\u001b[38;5;241m.\u001b[39mwrite(MARK \u001b[38;5;241m+\u001b[39m DICT)\n\u001b[1;32m    970\u001b[0m \u001b[38;5;28mself\u001b[39m\u001b[38;5;241m.\u001b[39mmemoize(obj)\n\u001b[0;32m--> 971\u001b[0m \u001b[38;5;28;43mself\u001b[39;49m\u001b[38;5;241;43m.\u001b[39;49m\u001b[43m_batch_setitems\u001b[49m\u001b[43m(\u001b[49m\u001b[43mobj\u001b[49m\u001b[38;5;241;43m.\u001b[39;49m\u001b[43mitems\u001b[49m\u001b[43m(\u001b[49m\u001b[43m)\u001b[49m\u001b[43m)\u001b[49m\n",
      "File \u001b[0;32m~/anaconda3/envs/chem/lib/python3.9/pickle.py:997\u001b[0m, in \u001b[0;36m_Pickler._batch_setitems\u001b[0;34m(self, items)\u001b[0m\n\u001b[1;32m    995\u001b[0m     \u001b[38;5;28;01mfor\u001b[39;00m k, v \u001b[38;5;129;01min\u001b[39;00m tmp:\n\u001b[1;32m    996\u001b[0m         save(k)\n\u001b[0;32m--> 997\u001b[0m         \u001b[43msave\u001b[49m\u001b[43m(\u001b[49m\u001b[43mv\u001b[49m\u001b[43m)\u001b[49m\n\u001b[1;32m    998\u001b[0m     write(SETITEMS)\n\u001b[1;32m    999\u001b[0m \u001b[38;5;28;01melif\u001b[39;00m n:\n",
      "File \u001b[0;32m~/anaconda3/envs/chem/lib/python3.9/site-packages/joblib/numpy_pickle.py:284\u001b[0m, in \u001b[0;36mNumpyPickler.save\u001b[0;34m(self, obj)\u001b[0m\n\u001b[1;32m    281\u001b[0m     wrapper\u001b[38;5;241m.\u001b[39mwrite_array(obj, \u001b[38;5;28mself\u001b[39m)\n\u001b[1;32m    282\u001b[0m     \u001b[38;5;28;01mreturn\u001b[39;00m\n\u001b[0;32m--> 284\u001b[0m \u001b[38;5;28;01mreturn\u001b[39;00m \u001b[43mPickler\u001b[49m\u001b[38;5;241;43m.\u001b[39;49m\u001b[43msave\u001b[49m\u001b[43m(\u001b[49m\u001b[38;5;28;43mself\u001b[39;49m\u001b[43m,\u001b[49m\u001b[43m \u001b[49m\u001b[43mobj\u001b[49m\u001b[43m)\u001b[49m\n",
      "File \u001b[0;32m~/anaconda3/envs/chem/lib/python3.9/pickle.py:578\u001b[0m, in \u001b[0;36m_Pickler.save\u001b[0;34m(self, obj, save_persistent_id)\u001b[0m\n\u001b[1;32m    576\u001b[0m reduce \u001b[38;5;241m=\u001b[39m \u001b[38;5;28mgetattr\u001b[39m(obj, \u001b[38;5;124m\"\u001b[39m\u001b[38;5;124m__reduce_ex__\u001b[39m\u001b[38;5;124m\"\u001b[39m, \u001b[38;5;28;01mNone\u001b[39;00m)\n\u001b[1;32m    577\u001b[0m \u001b[38;5;28;01mif\u001b[39;00m reduce \u001b[38;5;129;01mis\u001b[39;00m \u001b[38;5;129;01mnot\u001b[39;00m \u001b[38;5;28;01mNone\u001b[39;00m:\n\u001b[0;32m--> 578\u001b[0m     rv \u001b[38;5;241m=\u001b[39m \u001b[43mreduce\u001b[49m\u001b[43m(\u001b[49m\u001b[38;5;28;43mself\u001b[39;49m\u001b[38;5;241;43m.\u001b[39;49m\u001b[43mproto\u001b[49m\u001b[43m)\u001b[49m\n\u001b[1;32m    579\u001b[0m \u001b[38;5;28;01melse\u001b[39;00m:\n\u001b[1;32m    580\u001b[0m     reduce \u001b[38;5;241m=\u001b[39m \u001b[38;5;28mgetattr\u001b[39m(obj, \u001b[38;5;124m\"\u001b[39m\u001b[38;5;124m__reduce__\u001b[39m\u001b[38;5;124m\"\u001b[39m, \u001b[38;5;28;01mNone\u001b[39;00m)\n",
      "File \u001b[0;32m~/anaconda3/envs/chem/lib/python3.9/site-packages/keras/engine/training.py:324\u001b[0m, in \u001b[0;36mModel.__reduce__\u001b[0;34m(self)\u001b[0m\n\u001b[1;32m    321\u001b[0m \u001b[38;5;28;01mdef\u001b[39;00m \u001b[38;5;21m__reduce__\u001b[39m(\u001b[38;5;28mself\u001b[39m):\n\u001b[1;32m    322\u001b[0m   \u001b[38;5;28;01mif\u001b[39;00m \u001b[38;5;28mself\u001b[39m\u001b[38;5;241m.\u001b[39mbuilt:\n\u001b[1;32m    323\u001b[0m     \u001b[38;5;28;01mreturn\u001b[39;00m (pickle_utils\u001b[38;5;241m.\u001b[39mdeserialize_model_from_bytecode,\n\u001b[0;32m--> 324\u001b[0m             \u001b[43mpickle_utils\u001b[49m\u001b[38;5;241;43m.\u001b[39;49m\u001b[43mserialize_model_as_bytecode\u001b[49m\u001b[43m(\u001b[49m\u001b[38;5;28;43mself\u001b[39;49m\u001b[43m)\u001b[49m)\n\u001b[1;32m    325\u001b[0m   \u001b[38;5;28;01melse\u001b[39;00m:\n\u001b[1;32m    326\u001b[0m     \u001b[38;5;66;03m# SavedModel (and hence serialize_model_as_bytecode) only support\u001b[39;00m\n\u001b[1;32m    327\u001b[0m     \u001b[38;5;66;03m# built models, but if the model is not built,\u001b[39;00m\n\u001b[0;32m   (...)\u001b[0m\n\u001b[1;32m    331\u001b[0m     \u001b[38;5;66;03m# Thus we call up the superclass hierarchy to get an implementation of\u001b[39;00m\n\u001b[1;32m    332\u001b[0m     \u001b[38;5;66;03m# __reduce__ that can pickle this Model as a plain Python object.\u001b[39;00m\n\u001b[1;32m    333\u001b[0m     \u001b[38;5;28;01mreturn\u001b[39;00m \u001b[38;5;28msuper\u001b[39m(Model, \u001b[38;5;28mself\u001b[39m)\u001b[38;5;241m.\u001b[39m__reduce__()\n",
      "File \u001b[0;32m~/anaconda3/envs/chem/lib/python3.9/site-packages/keras/saving/pickle_utils.py:64\u001b[0m, in \u001b[0;36mserialize_model_as_bytecode\u001b[0;34m(model)\u001b[0m\n\u001b[1;32m     54\u001b[0m \u001b[38;5;124;03m\"\"\"Convert a Keras Model into a bytecode representation for pickling.\u001b[39;00m\n\u001b[1;32m     55\u001b[0m \n\u001b[1;32m     56\u001b[0m \u001b[38;5;124;03mArgs:\u001b[39;00m\n\u001b[0;32m   (...)\u001b[0m\n\u001b[1;32m     61\u001b[0m \u001b[38;5;124;03m        `deserialize_from_bytecode`.\u001b[39;00m\n\u001b[1;32m     62\u001b[0m \u001b[38;5;124;03m\"\"\"\u001b[39;00m\n\u001b[1;32m     63\u001b[0m temp_dir \u001b[38;5;241m=\u001b[39m \u001b[38;5;124mf\u001b[39m\u001b[38;5;124m\"\u001b[39m\u001b[38;5;124mram://\u001b[39m\u001b[38;5;132;01m{\u001b[39;00muuid\u001b[38;5;241m.\u001b[39muuid4()\u001b[38;5;132;01m}\u001b[39;00m\u001b[38;5;124m\"\u001b[39m\n\u001b[0;32m---> 64\u001b[0m \u001b[43mmodel\u001b[49m\u001b[38;5;241;43m.\u001b[39;49m\u001b[43msave\u001b[49m\u001b[43m(\u001b[49m\u001b[43mtemp_dir\u001b[49m\u001b[43m)\u001b[49m\n\u001b[1;32m     65\u001b[0m b \u001b[38;5;241m=\u001b[39m io\u001b[38;5;241m.\u001b[39mBytesIO()\n\u001b[1;32m     66\u001b[0m \u001b[38;5;28;01mwith\u001b[39;00m tarfile\u001b[38;5;241m.\u001b[39mopen(fileobj\u001b[38;5;241m=\u001b[39mb, mode\u001b[38;5;241m=\u001b[39m\u001b[38;5;124m\"\u001b[39m\u001b[38;5;124mw\u001b[39m\u001b[38;5;124m\"\u001b[39m) \u001b[38;5;28;01mas\u001b[39;00m archive:\n",
      "File \u001b[0;32m~/anaconda3/envs/chem/lib/python3.9/site-packages/keras/utils/traceback_utils.py:67\u001b[0m, in \u001b[0;36mfilter_traceback.<locals>.error_handler\u001b[0;34m(*args, **kwargs)\u001b[0m\n\u001b[1;32m     65\u001b[0m \u001b[38;5;28;01mexcept\u001b[39;00m \u001b[38;5;167;01mException\u001b[39;00m \u001b[38;5;28;01mas\u001b[39;00m e:  \u001b[38;5;66;03m# pylint: disable=broad-except\u001b[39;00m\n\u001b[1;32m     66\u001b[0m   filtered_tb \u001b[38;5;241m=\u001b[39m _process_traceback_frames(e\u001b[38;5;241m.\u001b[39m__traceback__)\n\u001b[0;32m---> 67\u001b[0m   \u001b[38;5;28;01mraise\u001b[39;00m e\u001b[38;5;241m.\u001b[39mwith_traceback(filtered_tb) \u001b[38;5;28;01mfrom\u001b[39;00m \u001b[38;5;28mNone\u001b[39m\n\u001b[1;32m     68\u001b[0m \u001b[38;5;28;01mfinally\u001b[39;00m:\n\u001b[1;32m     69\u001b[0m   \u001b[38;5;28;01mdel\u001b[39;00m filtered_tb\n",
      "File \u001b[0;32m/tmp/__autograph_generated_fileme7nj7xj.py:14\u001b[0m, in \u001b[0;36mouter_factory.<locals>.inner_factory.<locals>.tf___wrapped_model\u001b[0;34m(*args, **kwargs)\u001b[0m\n\u001b[1;32m     12\u001b[0m ag__\u001b[38;5;241m.\u001b[39mld(kwargs)[\u001b[38;5;124m'\u001b[39m\u001b[38;5;124mtraining\u001b[39m\u001b[38;5;124m'\u001b[39m] \u001b[38;5;241m=\u001b[39m \u001b[38;5;28;01mFalse\u001b[39;00m\n\u001b[1;32m     13\u001b[0m \u001b[38;5;28;01mwith\u001b[39;00m ag__\u001b[38;5;241m.\u001b[39mld(base_layer_utils)\u001b[38;5;241m.\u001b[39mcall_context()\u001b[38;5;241m.\u001b[39menter(ag__\u001b[38;5;241m.\u001b[39mld(model), inputs\u001b[38;5;241m=\u001b[39m\u001b[38;5;28;01mNone\u001b[39;00m, build_graph\u001b[38;5;241m=\u001b[39m\u001b[38;5;28;01mFalse\u001b[39;00m, training\u001b[38;5;241m=\u001b[39m\u001b[38;5;28;01mFalse\u001b[39;00m, saving\u001b[38;5;241m=\u001b[39m\u001b[38;5;28;01mTrue\u001b[39;00m):\n\u001b[0;32m---> 14\u001b[0m     outputs \u001b[38;5;241m=\u001b[39m ag__\u001b[38;5;241m.\u001b[39mconverted_call(ag__\u001b[38;5;241m.\u001b[39mld(model), \u001b[38;5;28mtuple\u001b[39m(ag__\u001b[38;5;241m.\u001b[39mld(args)), \u001b[38;5;28mdict\u001b[39m(\u001b[38;5;241m*\u001b[39m\u001b[38;5;241m*\u001b[39mag__\u001b[38;5;241m.\u001b[39mld(kwargs)), fscope)\n\u001b[1;32m     15\u001b[0m output_names \u001b[38;5;241m=\u001b[39m ag__\u001b[38;5;241m.\u001b[39mld(model)\u001b[38;5;241m.\u001b[39moutput_names\n\u001b[1;32m     17\u001b[0m \u001b[38;5;28;01mdef\u001b[39;00m \u001b[38;5;21mget_state\u001b[39m():\n",
      "File \u001b[0;32m/tmp/__autograph_generated_fileicnzgxvd.py:67\u001b[0m, in \u001b[0;36mouter_factory.<locals>.inner_factory.<locals>.tf__call\u001b[0;34m(self, inputs, training)\u001b[0m\n\u001b[1;32m     65\u001b[0m gc1 \u001b[38;5;241m=\u001b[39m ag__\u001b[38;5;241m.\u001b[39mUndefined(\u001b[38;5;124m'\u001b[39m\u001b[38;5;124mgc1\u001b[39m\u001b[38;5;124m'\u001b[39m)\n\u001b[1;32m     66\u001b[0m gc_in \u001b[38;5;241m=\u001b[39m ag__\u001b[38;5;241m.\u001b[39mUndefined(\u001b[38;5;124m'\u001b[39m\u001b[38;5;124mgc_in\u001b[39m\u001b[38;5;124m'\u001b[39m)\n\u001b[0;32m---> 67\u001b[0m ag__\u001b[38;5;241m.\u001b[39mfor_stmt(ag__\u001b[38;5;241m.\u001b[39mconverted_call(ag__\u001b[38;5;241m.\u001b[39mld(\u001b[38;5;28mrange\u001b[39m), (ag__\u001b[38;5;241m.\u001b[39mconverted_call(ag__\u001b[38;5;241m.\u001b[39mld(\u001b[38;5;28mlen\u001b[39m), (ag__\u001b[38;5;241m.\u001b[39mld(\u001b[38;5;28mself\u001b[39m)\u001b[38;5;241m.\u001b[39mgraph_convs,), \u001b[38;5;28;01mNone\u001b[39;00m, fscope),), \u001b[38;5;28;01mNone\u001b[39;00m, fscope), \u001b[38;5;28;01mNone\u001b[39;00m, loop_body, get_state_2, set_state_2, (\u001b[38;5;124m'\u001b[39m\u001b[38;5;124min_layer\u001b[39m\u001b[38;5;124m'\u001b[39m,), {\u001b[38;5;124m'\u001b[39m\u001b[38;5;124miterate_names\u001b[39m\u001b[38;5;124m'\u001b[39m: \u001b[38;5;124m'\u001b[39m\u001b[38;5;124mi\u001b[39m\u001b[38;5;124m'\u001b[39m})\n\u001b[1;32m     68\u001b[0m dense \u001b[38;5;241m=\u001b[39m ag__\u001b[38;5;241m.\u001b[39mconverted_call(ag__\u001b[38;5;241m.\u001b[39mld(\u001b[38;5;28mself\u001b[39m)\u001b[38;5;241m.\u001b[39mdense, (ag__\u001b[38;5;241m.\u001b[39mld(in_layer),), \u001b[38;5;28;01mNone\u001b[39;00m, fscope)\n\u001b[1;32m     70\u001b[0m \u001b[38;5;28;01mdef\u001b[39;00m \u001b[38;5;21mget_state_3\u001b[39m():\n",
      "File \u001b[0;32m/tmp/__autograph_generated_fileicnzgxvd.py:28\u001b[0m, in \u001b[0;36mouter_factory.<locals>.inner_factory.<locals>.tf__call.<locals>.loop_body\u001b[0;34m(itr)\u001b[0m\n\u001b[1;32m     26\u001b[0m i \u001b[38;5;241m=\u001b[39m itr\n\u001b[1;32m     27\u001b[0m gc_in \u001b[38;5;241m=\u001b[39m [ag__\u001b[38;5;241m.\u001b[39mld(in_layer), ag__\u001b[38;5;241m.\u001b[39mld(degree_slice), ag__\u001b[38;5;241m.\u001b[39mld(membership)] \u001b[38;5;241m+\u001b[39m ag__\u001b[38;5;241m.\u001b[39mld(deg_adjs)\n\u001b[0;32m---> 28\u001b[0m gc1 \u001b[38;5;241m=\u001b[39m \u001b[43mag__\u001b[49m\u001b[38;5;241;43m.\u001b[39;49m\u001b[43mconverted_call\u001b[49m\u001b[43m(\u001b[49m\u001b[43mag__\u001b[49m\u001b[38;5;241;43m.\u001b[39;49m\u001b[43mld\u001b[49m\u001b[43m(\u001b[49m\u001b[38;5;28;43mself\u001b[39;49m\u001b[43m)\u001b[49m\u001b[38;5;241;43m.\u001b[39;49m\u001b[43mgraph_convs\u001b[49m\u001b[43m[\u001b[49m\u001b[43mag__\u001b[49m\u001b[38;5;241;43m.\u001b[39;49m\u001b[43mld\u001b[49m\u001b[43m(\u001b[49m\u001b[43mi\u001b[49m\u001b[43m)\u001b[49m\u001b[43m]\u001b[49m\u001b[43m,\u001b[49m\u001b[43m \u001b[49m\u001b[43m(\u001b[49m\u001b[43mag__\u001b[49m\u001b[38;5;241;43m.\u001b[39;49m\u001b[43mld\u001b[49m\u001b[43m(\u001b[49m\u001b[43mgc_in\u001b[49m\u001b[43m)\u001b[49m\u001b[43m,\u001b[49m\u001b[43m)\u001b[49m\u001b[43m,\u001b[49m\u001b[43m \u001b[49m\u001b[38;5;28;43;01mNone\u001b[39;49;00m\u001b[43m,\u001b[49m\u001b[43m \u001b[49m\u001b[43mfscope\u001b[49m\u001b[43m)\u001b[49m\n\u001b[1;32m     30\u001b[0m \u001b[38;5;28;01mdef\u001b[39;00m \u001b[38;5;21mget_state\u001b[39m():\n\u001b[1;32m     31\u001b[0m     \u001b[38;5;28;01mreturn\u001b[39;00m (gc1,)\n",
      "File \u001b[0;32m/tmp/__autograph_generated_filedan7likl.py:17\u001b[0m, in \u001b[0;36mouter_factory.<locals>.inner_factory.<locals>.tf__call\u001b[0;34m(self, inputs)\u001b[0m\n\u001b[1;32m     15\u001b[0m deg_summed \u001b[38;5;241m=\u001b[39m ag__\u001b[38;5;241m.\u001b[39mconverted_call(ag__\u001b[38;5;241m.\u001b[39mld(\u001b[38;5;28mself\u001b[39m)\u001b[38;5;241m.\u001b[39msum_neigh, (ag__\u001b[38;5;241m.\u001b[39mld(atom_features), ag__\u001b[38;5;241m.\u001b[39mld(deg_adj_lists)), \u001b[38;5;28;01mNone\u001b[39;00m, fscope)\n\u001b[1;32m     16\u001b[0m new_rel_atoms_collection \u001b[38;5;241m=\u001b[39m (ag__\u001b[38;5;241m.\u001b[39mld(\u001b[38;5;28mself\u001b[39m)\u001b[38;5;241m.\u001b[39mmax_degree \u001b[38;5;241m+\u001b[39m \u001b[38;5;241m1\u001b[39m \u001b[38;5;241m-\u001b[39m ag__\u001b[38;5;241m.\u001b[39mld(\u001b[38;5;28mself\u001b[39m)\u001b[38;5;241m.\u001b[39mmin_degree) \u001b[38;5;241m*\u001b[39m [\u001b[38;5;28;01mNone\u001b[39;00m]\n\u001b[0;32m---> 17\u001b[0m split_features \u001b[38;5;241m=\u001b[39m ag__\u001b[38;5;241m.\u001b[39mconverted_call(ag__\u001b[38;5;241m.\u001b[39mld(tf)\u001b[38;5;241m.\u001b[39msplit, (ag__\u001b[38;5;241m.\u001b[39mld(atom_features), ag__\u001b[38;5;241m.\u001b[39mld(deg_slice)[:, \u001b[38;5;241m1\u001b[39m]), \u001b[38;5;28;01mNone\u001b[39;00m, fscope)\n\u001b[1;32m     19\u001b[0m \u001b[38;5;28;01mdef\u001b[39;00m \u001b[38;5;21mget_state\u001b[39m():\n\u001b[1;32m     20\u001b[0m     \u001b[38;5;28;01mreturn\u001b[39;00m ()\n",
      "\u001b[0;31mValueError\u001b[0m: in user code:\n\n    File \"/home/lhelder/anaconda3/envs/chem/lib/python3.9/site-packages/keras/saving/saving_utils.py\", line 138, in _wrapped_model  *\n        outputs = model(*args, **kwargs)\n    File \"/home/lhelder/anaconda3/envs/chem/lib/python3.9/site-packages/keras/utils/traceback_utils.py\", line 67, in error_handler  **\n        raise e.with_traceback(filtered_tb) from None\n    File \"/tmp/__autograph_generated_fileicnzgxvd.py\", line 67, in tf__call\n        ag__.for_stmt(ag__.converted_call(ag__.ld(range), (ag__.converted_call(ag__.ld(len), (ag__.ld(self).graph_convs,), None, fscope),), None, fscope), None, loop_body, get_state_2, set_state_2, ('in_layer',), {'iterate_names': 'i'})\n    File \"/tmp/__autograph_generated_fileicnzgxvd.py\", line 28, in loop_body\n        gc1 = ag__.converted_call(ag__.ld(self).graph_convs[ag__.ld(i)], (ag__.ld(gc_in),), None, fscope)\n    File \"/tmp/__autograph_generated_filedan7likl.py\", line 17, in tf__call\n        split_features = ag__.converted_call(ag__.ld(tf).split, (ag__.ld(atom_features), ag__.ld(deg_slice)[:, 1]), None, fscope)\n\n    ValueError: Exception encountered when calling layer \"private__graph_conv_keras_model_8\" (type _GraphConvKerasModel).\n    \n    in user code:\n    \n        File \"/home/lhelder/anaconda3/envs/chem/lib/python3.9/site-packages/deepchem/models/graph_models.py\", line 854, in call  *\n            gc1 = self.graph_convs[i](gc_in)\n        File \"/home/lhelder/anaconda3/envs/chem/lib/python3.9/site-packages/keras/utils/traceback_utils.py\", line 67, in error_handler  **\n            raise e.with_traceback(filtered_tb) from None\n        File \"/tmp/__autograph_generated_filedan7likl.py\", line 17, in tf__call\n            split_features = ag__.converted_call(ag__.ld(tf).split, (ag__.ld(atom_features), ag__.ld(deg_slice)[:, 1]), None, fscope)\n    \n        ValueError: Exception encountered when calling layer \"graph_conv_16\" (type GraphConv).\n        \n        in user code:\n        \n            File \"/home/lhelder/anaconda3/envs/chem/lib/python3.9/site-packages/deepchem/models/layers.py\", line 174, in call  *\n                split_features = tf.split(atom_features, deg_slice[:, 1])\n        \n            ValueError: Cannot infer argument `num` from shape Tensor(\"private__graph_conv_keras_model_8/graph_conv_16/strided_slice:0\", shape=(None,), dtype=int32)\n        \n        \n        Call arguments received by layer \"graph_conv_16\" (type GraphConv):\n          • inputs=['tf.Tensor(shape=(None, 75), dtype=float32)', 'tf.Tensor(shape=(None, 2), dtype=int32)', 'tf.Tensor(shape=(None,), dtype=int32)', 'tf.Tensor(shape=(None, 1), dtype=int32)', 'tf.Tensor(shape=(None, 2), dtype=int32)', 'tf.Tensor(shape=(None, 3), dtype=int32)', 'tf.Tensor(shape=(None, 4), dtype=int32)', 'tf.Tensor(shape=(None, 5), dtype=int32)', 'tf.Tensor(shape=(None, 6), dtype=int32)', 'tf.Tensor(shape=(None, 7), dtype=int32)', 'tf.Tensor(shape=(None, 8), dtype=int32)', 'tf.Tensor(shape=(None, 9), dtype=int32)', 'tf.Tensor(shape=(None, 10), dtype=int32)']\n    \n    \n    Call arguments received by layer \"private__graph_conv_keras_model_8\" (type _GraphConvKerasModel):\n      • inputs=['tf.Tensor(shape=(None, 75), dtype=float32)', 'tf.Tensor(shape=(None, 2), dtype=int64)', 'tf.Tensor(shape=(None,), dtype=int32)', 'tf.Tensor(shape=(None,), dtype=int64)', 'tf.Tensor(shape=(None, 1), dtype=int32)', 'tf.Tensor(shape=(None, 2), dtype=int32)', 'tf.Tensor(shape=(None, 3), dtype=int32)', 'tf.Tensor(shape=(None, 4), dtype=int32)', 'tf.Tensor(shape=(None, 5), dtype=int32)', 'tf.Tensor(shape=(None, 6), dtype=int32)', 'tf.Tensor(shape=(None, 7), dtype=int32)', 'tf.Tensor(shape=(None, 8), dtype=int32)', 'tf.Tensor(shape=(None, 9), dtype=int32)', 'tf.Tensor(shape=(None, 10), dtype=int32)']\n      • training=False\n"
     ]
    }
   ],
   "source": [
    "from tensorflow.keras.models import save_model\n",
    "import tensorflow as tf\n",
    "import deepchem as dc\n",
    "import joblib\n",
    "\n",
    "joblib.dump(model,'model.pickle')"
   ]
  },
  {
   "cell_type": "code",
   "execution_count": null,
   "id": "04e094a2-bc4f-4d82-9e3f-996b3ed0d281",
   "metadata": {},
   "outputs": [],
   "source": []
  }
 ],
 "metadata": {
  "kernelspec": {
   "display_name": "Python 3 (ipykernel)",
   "language": "python",
   "name": "python3"
  },
  "language_info": {
   "codemirror_mode": {
    "name": "ipython",
    "version": 3
   },
   "file_extension": ".py",
   "mimetype": "text/x-python",
   "name": "python",
   "nbconvert_exporter": "python",
   "pygments_lexer": "ipython3",
   "version": "3.9.12"
  }
 },
 "nbformat": 4,
 "nbformat_minor": 5
}
