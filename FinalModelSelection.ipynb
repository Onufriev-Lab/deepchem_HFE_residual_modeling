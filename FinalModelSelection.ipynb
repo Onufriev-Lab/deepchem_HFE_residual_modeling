{
 "cells": [
  {
   "cell_type": "code",
   "execution_count": 8,
   "id": "a2d74cd6-a543-4d5a-9123-bce2a4d9a77a",
   "metadata": {},
   "outputs": [
    {
     "data": {
      "text/plain": [
       "{'phy_rmsd': {'train': 1.5560596697201357, 'test': 1.4352081556345755},\n",
       " 'ml_rmsd': {'train': 0.6939260760419648, 'test': 1.0909239381377032},\n",
       " 'phy_md': {'train': -0.33443594306049823, 'test': -0.19277499999999997},\n",
       " 'ml_md': {'train': 0.12944947844955845, 'test': 0.37069442521631724},\n",
       " 'phy_out_rmsd': {'train': 4.825227548681173, 'test': 3.7860636880538605},\n",
       " 'ml_out_rmsd': {'train': 2.219233030948551, 'test': 3.490601617748609},\n",
       " 'params': {'epochs': 500,\n",
       "  'dropout': 0.4,\n",
       "  'batch_normalize': False,\n",
       "  'batch_size': 100,\n",
       "  'feat': 'tip3p',\n",
       "  'kfold': 20,\n",
       "  'dense_layer_size': 27,\n",
       "  'graph_conv_layers': [32, 32],\n",
       "  'model_dir': 'model_10'}}"
      ]
     },
     "execution_count": 8,
     "metadata": {},
     "output_type": "execute_result"
    }
   ],
   "source": [
    "import deepchem as dc\n",
    "import pandas as pd\n",
    "import pickle\n",
    "import numpy as np\n",
    "import warnings\n",
    "\n",
    "from utils import *\n",
    "warnings.filterwarnings('ignore')\n",
    "file = open('tests/tip3p/model_10/results.pickle','rb')\n",
    "results = pickle.load(file)\n",
    "stats = results['stats'][0]\n",
    "stats"
   ]
  },
  {
   "cell_type": "code",
   "execution_count": null,
   "id": "b10e8326-03d8-4704-93db-7e92a8d3ef86",
   "metadata": {},
   "outputs": [],
   "source": [
    "# params = [{'epochs' : 500, 'dropout' : 0.4, 'batch_normalize' : False, 'batch_size' : 100, 'feat' : 'tip3p', \n",
    "#            'kfold' : -1, 'dense_layer_size' : 27, 'graph_conv_layers' : [32, 32]},\n",
    "#           {'epochs' : 500, 'dropout' : 0.4, 'batch_normalize' : False, 'batch_size' : 100, 'feat' : 'cha', \n",
    "#           'kfold' : -1, 'dense_layer_size' : 27, 'graph_conv_layers' : [32, 32]},\n",
    "#          {'epochs' : 500, 'dropout' : 0.4, 'batch_normalize' : False, 'batch_size' : 100, 'feat' : 'gbnsr6', \n",
    "#           'kfold' : -1, 'dense_layer_size' : 27, 'graph_conv_layers' : [32, 32]},\n",
    "#          {'epochs' : 500, 'dropout' : 0.4, 'batch_normalize' : False, 'batch_size' : 100, 'feat' : 'asc', \n",
    "#           'kfold' : -1, 'dense_layer_size' : 27, 'graph_conv_layers' : [32, 32]},\n",
    "#          {'epochs' : 500, 'dropout' : 0.4, 'batch_normalize' : False, 'batch_size' : 100, 'feat' : 'igb5', \n",
    "#           'kfold' : -1, 'dense_layer_size' : 27, 'graph_conv_layers' : [32, 32]},   \n",
    "#          {'epochs' : 500, 'dropout' : 0.4, 'batch_normalize' : False, 'batch_size' : 100, 'feat' : 'null', \n",
    "#           'kfold' : -1, 'dense_layer_size' : 27, 'graph_conv_layers' : [32, 32]}\n",
    "#          ]"
   ]
  },
  {
   "cell_type": "code",
   "execution_count": 13,
   "id": "d5493ff3-b81c-4f46-a2ff-28f01495b5c5",
   "metadata": {},
   "outputs": [
    {
     "name": "stdout",
     "output_type": "stream",
     "text": [
      "tip3p\n",
      "physics model: test 1.435 ± 0.0 train 1.556 ± 0.0\n",
      "physics + ml: test 1.038 ± 0.071 train 0.707 ± 0.048\n",
      "cha\n",
      "physics model: test 1.315 ± 0.0 train 1.77 ± 0.0\n",
      "physics + ml: test 0.991 ± 0.058 train 0.775 ± 0.04\n",
      "gbnsr6\n",
      "physics model: test 1.855 ± 0.0 train 1.64 ± 0.0\n",
      "physics + ml: test 1.459 ± 0.072 train 0.756 ± 0.046\n",
      "asc\n",
      "physics model: test 2.652 ± 0.0 train 2.489 ± 0.0\n",
      "physics + ml: test 1.573 ± 0.096 train 1.038 ± 0.061\n",
      "igb5\n",
      "physics model: test 3.112 ± 0.0 train 2.805 ± 0.0\n",
      "physics + ml: test 1.658 ± 0.162 train 1.039 ± 0.076\n",
      "null\n",
      "physics model: test 5.45 ± 0.0 train 5.402 ± 0.0\n",
      "physics + ml: test 1.633 ± 0.118 train 1.12 ± 0.095\n"
     ]
    }
   ],
   "source": [
    "error = 1\n",
    "\n",
    "feats = ['tip3p','cha','gbnsr6','asc','igb5','null']\n",
    "for feat in feats:\n",
    "    print(feat)\n",
    "    phys_rmsd_train = []\n",
    "    phys_rmsd_test = []\n",
    "    ml_rmsd_train = []\n",
    "    ml_rmsd_test = []\n",
    "    for i in range(100):\n",
    "        file = open('tests/'+feat+'/model_'+str(i)+'/results.pickle','rb')\n",
    "        \n",
    "        results = pickle.load(file)\n",
    "        stats = results['stats'][0]\n",
    "        phys_rmsd_test.append(stats['phy_rmsd']['test'])\n",
    "        phys_rmsd_train.append(stats['phy_rmsd']['train'])\n",
    "        ml_rmsd_test.append(stats['ml_rmsd']['test'])\n",
    "        ml_rmsd_train.append(stats['ml_rmsd']['train'])\n",
    "    print('physics model: test',np.round(np.mean(phys_rmsd_test),3),'±',np.round(error*np.std(phys_rmsd_test),3),\n",
    "              'train',np.round(np.mean(phys_rmsd_train),3),'±',np.round(error*np.std(phys_rmsd_train),3))\n",
    "    print('physics + ml: test',np.round(np.mean(ml_rmsd_test),3),'±',np.round(error*np.std(ml_rmsd_test),3),\n",
    "              'train',np.round(np.mean(ml_rmsd_train),3),'±',np.round(error*np.std(ml_rmsd_train),3))"
   ]
  },
  {
   "cell_type": "code",
   "execution_count": null,
   "id": "2fbca7ec-1c76-4dba-92d8-3189ba9af635",
   "metadata": {},
   "outputs": [],
   "source": []
  }
 ],
 "metadata": {
  "kernelspec": {
   "display_name": "Python 3 (ipykernel)",
   "language": "python",
   "name": "python3"
  },
  "language_info": {
   "codemirror_mode": {
    "name": "ipython",
    "version": 3
   },
   "file_extension": ".py",
   "mimetype": "text/x-python",
   "name": "python",
   "nbconvert_exporter": "python",
   "pygments_lexer": "ipython3",
   "version": "3.9.12"
  }
 },
 "nbformat": 4,
 "nbformat_minor": 5
}
