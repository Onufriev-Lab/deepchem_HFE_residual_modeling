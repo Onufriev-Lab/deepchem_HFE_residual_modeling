{
 "cells": [
  {
   "cell_type": "code",
   "execution_count": 32,
   "id": "a2d74cd6-a543-4d5a-9123-bce2a4d9a77a",
   "metadata": {},
   "outputs": [
    {
     "data": {
      "text/plain": [
       "{'phy_rmsd': {'train': 1.536399217378134, 'test': 1.5770023501884833},\n",
       " 'ml_rmsd': {'train': 0.9321493926026675, 'test': 1.0667797852016094},\n",
       " 'phy_md': {'train': -0.31263701067615657, 'test': -0.34591249999999996},\n",
       " 'ml_md': {'train': 0.3593255602100937, 'test': 0.36133541802931574},\n",
       " 'phy_out_rmsd': {'train': 4.620207526313823, 'test': 5.262996912406466},\n",
       " 'ml_out_rmsd': {'train': 2.9699125298309386, 'test': 3.4479220352523563},\n",
       " 'params': {'epochs': 500,\n",
       "  'dropout': 0.4,\n",
       "  'batch_normalize': False,\n",
       "  'batch_size': 1000,\n",
       "  'feat': 'tip3p',\n",
       "  'kfold': -1,\n",
       "  'dense_layer_size': 27,\n",
       "  'graph_conv_layers': [32, 32],\n",
       "  'model_dir': 'model_10'}}"
      ]
     },
     "execution_count": 32,
     "metadata": {},
     "output_type": "execute_result"
    }
   ],
   "source": [
    "import deepchem as dc\n",
    "import pandas as pd\n",
    "import pickle\n",
    "import numpy as np\n",
    "import warnings\n",
    "\n",
    "from utils import *\n",
    "warnings.filterwarnings('ignore')\n",
    "file = open('tests/tip3p/model_10/results.pickle','rb')\n",
    "results = pickle.load(file)\n",
    "stats = results['stats'][0]\n",
    "stats"
   ]
  },
  {
   "cell_type": "code",
   "execution_count": 35,
   "id": "d5493ff3-b81c-4f46-a2ff-28f01495b5c5",
   "metadata": {},
   "outputs": [
    {
     "name": "stdout",
     "output_type": "stream",
     "text": [
      "physics model: test 1.577 ± 0.0 train 1.536 ± 0.0\n",
      "physics + ml: test 1.084 ± 0.074 train 0.902 ± 0.065\n"
     ]
    }
   ],
   "source": [
    "error = 1\n",
    "phys_rmsd_train = []\n",
    "phys_rmsd_test = []\n",
    "ml_rmsd_train = []\n",
    "ml_rmsd_test = []\n",
    "for i in range(100):\n",
    "    file = open('tests/tip3p/model_'+str(i)+'/results.pickle','rb')\n",
    "    results = pickle.load(file)\n",
    "    stats = results['stats'][0]\n",
    "    phys_rmsd_test.append(stats['phy_rmsd']['test'])\n",
    "    phys_rmsd_train.append(stats['phy_rmsd']['train'])\n",
    "    ml_rmsd_test.append(stats['ml_rmsd']['test'])\n",
    "    ml_rmsd_train.append(stats['ml_rmsd']['train'])\n",
    "print('physics model: test',np.round(np.mean(phys_rmsd_test),3),'±',np.round(error*np.std(phys_rmsd_test),3),\n",
    "          'train',np.round(np.mean(phys_rmsd_train),3),'±',np.round(error*np.std(phys_rmsd_train),3))\n",
    "print('physics + ml: test',np.round(np.mean(ml_rmsd_test),3),'±',np.round(error*np.std(ml_rmsd_test),3),\n",
    "          'train',np.round(np.mean(ml_rmsd_train),3),'±',np.round(error*np.std(ml_rmsd_train),3))"
   ]
  },
  {
   "cell_type": "code",
   "execution_count": null,
   "id": "2fbca7ec-1c76-4dba-92d8-3189ba9af635",
   "metadata": {},
   "outputs": [],
   "source": []
  }
 ],
 "metadata": {
  "kernelspec": {
   "display_name": "Python 3 (ipykernel)",
   "language": "python",
   "name": "python3"
  },
  "language_info": {
   "codemirror_mode": {
    "name": "ipython",
    "version": 3
   },
   "file_extension": ".py",
   "mimetype": "text/x-python",
   "name": "python",
   "nbconvert_exporter": "python",
   "pygments_lexer": "ipython3",
   "version": "3.9.12"
  }
 },
 "nbformat": 4,
 "nbformat_minor": 5
}
