{
 "cells": [
  {
   "cell_type": "code",
   "execution_count": 1,
   "id": "a2d74cd6-a543-4d5a-9123-bce2a4d9a77a",
   "metadata": {},
   "outputs": [
    {
     "name": "stderr",
     "output_type": "stream",
     "text": [
      "2023-07-12 20:00:37.974372: I tensorflow/core/util/util.cc:169] oneDNN custom operations are on. You may see slightly different numerical results due to floating-point round-off errors from different computation orders. To turn them off, set the environment variable `TF_ENABLE_ONEDNN_OPTS=0`.\n",
      "2023-07-12 20:00:37.976893: W tensorflow/stream_executor/platform/default/dso_loader.cc:64] Could not load dynamic library 'libcudart.so.11.0'; dlerror: libcudart.so.11.0: cannot open shared object file: No such file or directory; LD_LIBRARY_PATH: /usr/local/cuda-10.1/lib64:/usr/local/cuda-10.1/lib64:/usr/local/cuda-10.1/extras/CUPTI/lib64:/usr/local/cuda-10.1/extras/CUPTI/lib64\n",
      "2023-07-12 20:00:37.976903: I tensorflow/stream_executor/cuda/cudart_stub.cc:29] Ignore above cudart dlerror if you do not have a GPU set up on your machine.\n"
     ]
    },
    {
     "data": {
      "text/plain": [
       "{'phy_rmsd': {'train': 1.5560596697201357, 'test': 1.4352081556345755},\n",
       " 'ml_rmsd': {'train': 0.6939260760419648, 'test': 1.0909239381377032},\n",
       " 'phy_md': {'train': -0.33443594306049823, 'test': -0.19277499999999997},\n",
       " 'ml_md': {'train': 0.12944947844955845, 'test': 0.37069442521631724},\n",
       " 'phy_out_rmsd': {'train': 4.825227548681173, 'test': 3.7860636880538605},\n",
       " 'ml_out_rmsd': {'train': 2.219233030948551, 'test': 3.490601617748609},\n",
       " 'params': {'epochs': 500,\n",
       "  'dropout': 0.4,\n",
       "  'batch_normalize': False,\n",
       "  'batch_size': 100,\n",
       "  'feat': 'tip3p',\n",
       "  'kfold': 20,\n",
       "  'dense_layer_size': 27,\n",
       "  'graph_conv_layers': [32, 32],\n",
       "  'model_dir': 'model_10'}}"
      ]
     },
     "execution_count": 1,
     "metadata": {},
     "output_type": "execute_result"
    }
   ],
   "source": [
    "import deepchem as dc\n",
    "import pandas as pd\n",
    "import pickle\n",
    "import numpy as np\n",
    "import warnings\n",
    "\n",
    "from utils import *\n",
    "warnings.filterwarnings('ignore')\n",
    "file = open('tests/tip3p/model_10/results.pickle','rb')\n",
    "results = pickle.load(file)\n",
    "stats = results['stats'][0]\n",
    "stats"
   ]
  },
  {
   "cell_type": "code",
   "execution_count": 7,
   "id": "d5493ff3-b81c-4f46-a2ff-28f01495b5c5",
   "metadata": {},
   "outputs": [
    {
     "ename": "FileNotFoundError",
     "evalue": "[Errno 2] No such file or directory: 'tests/null/model_66/results.pickle'",
     "output_type": "error",
     "traceback": [
      "\u001b[0;31m---------------------------------------------------------------------------\u001b[0m",
      "\u001b[0;31mFileNotFoundError\u001b[0m                         Traceback (most recent call last)",
      "Cell \u001b[0;32mIn[7], line 7\u001b[0m\n\u001b[1;32m      5\u001b[0m ml_rmsd_test \u001b[38;5;241m=\u001b[39m []\n\u001b[1;32m      6\u001b[0m \u001b[38;5;28;01mfor\u001b[39;00m i \u001b[38;5;129;01min\u001b[39;00m \u001b[38;5;28mrange\u001b[39m(\u001b[38;5;241m100\u001b[39m):\n\u001b[0;32m----> 7\u001b[0m     file \u001b[38;5;241m=\u001b[39m \u001b[38;5;28;43mopen\u001b[39;49m\u001b[43m(\u001b[49m\u001b[38;5;124;43m'\u001b[39;49m\u001b[38;5;124;43mtests/null/model_\u001b[39;49m\u001b[38;5;124;43m'\u001b[39;49m\u001b[38;5;241;43m+\u001b[39;49m\u001b[38;5;28;43mstr\u001b[39;49m\u001b[43m(\u001b[49m\u001b[43mi\u001b[49m\u001b[43m)\u001b[49m\u001b[38;5;241;43m+\u001b[39;49m\u001b[38;5;124;43m'\u001b[39;49m\u001b[38;5;124;43m/results.pickle\u001b[39;49m\u001b[38;5;124;43m'\u001b[39;49m\u001b[43m,\u001b[49m\u001b[38;5;124;43m'\u001b[39;49m\u001b[38;5;124;43mrb\u001b[39;49m\u001b[38;5;124;43m'\u001b[39;49m\u001b[43m)\u001b[49m\n\u001b[1;32m      8\u001b[0m     results \u001b[38;5;241m=\u001b[39m pickle\u001b[38;5;241m.\u001b[39mload(file)\n\u001b[1;32m      9\u001b[0m     stats \u001b[38;5;241m=\u001b[39m results[\u001b[38;5;124m'\u001b[39m\u001b[38;5;124mstats\u001b[39m\u001b[38;5;124m'\u001b[39m][\u001b[38;5;241m0\u001b[39m]\n",
      "File \u001b[0;32m~/anaconda3/envs/chem/lib/python3.9/site-packages/IPython/core/interactiveshell.py:284\u001b[0m, in \u001b[0;36m_modified_open\u001b[0;34m(file, *args, **kwargs)\u001b[0m\n\u001b[1;32m    277\u001b[0m \u001b[38;5;28;01mif\u001b[39;00m file \u001b[38;5;129;01min\u001b[39;00m {\u001b[38;5;241m0\u001b[39m, \u001b[38;5;241m1\u001b[39m, \u001b[38;5;241m2\u001b[39m}:\n\u001b[1;32m    278\u001b[0m     \u001b[38;5;28;01mraise\u001b[39;00m \u001b[38;5;167;01mValueError\u001b[39;00m(\n\u001b[1;32m    279\u001b[0m         \u001b[38;5;124mf\u001b[39m\u001b[38;5;124m\"\u001b[39m\u001b[38;5;124mIPython won\u001b[39m\u001b[38;5;124m'\u001b[39m\u001b[38;5;124mt let you open fd=\u001b[39m\u001b[38;5;132;01m{\u001b[39;00mfile\u001b[38;5;132;01m}\u001b[39;00m\u001b[38;5;124m by default \u001b[39m\u001b[38;5;124m\"\u001b[39m\n\u001b[1;32m    280\u001b[0m         \u001b[38;5;124m\"\u001b[39m\u001b[38;5;124mas it is likely to crash IPython. If you know what you are doing, \u001b[39m\u001b[38;5;124m\"\u001b[39m\n\u001b[1;32m    281\u001b[0m         \u001b[38;5;124m\"\u001b[39m\u001b[38;5;124myou can use builtins\u001b[39m\u001b[38;5;124m'\u001b[39m\u001b[38;5;124m open.\u001b[39m\u001b[38;5;124m\"\u001b[39m\n\u001b[1;32m    282\u001b[0m     )\n\u001b[0;32m--> 284\u001b[0m \u001b[38;5;28;01mreturn\u001b[39;00m \u001b[43mio_open\u001b[49m\u001b[43m(\u001b[49m\u001b[43mfile\u001b[49m\u001b[43m,\u001b[49m\u001b[43m \u001b[49m\u001b[38;5;241;43m*\u001b[39;49m\u001b[43margs\u001b[49m\u001b[43m,\u001b[49m\u001b[43m \u001b[49m\u001b[38;5;241;43m*\u001b[39;49m\u001b[38;5;241;43m*\u001b[39;49m\u001b[43mkwargs\u001b[49m\u001b[43m)\u001b[49m\n",
      "\u001b[0;31mFileNotFoundError\u001b[0m: [Errno 2] No such file or directory: 'tests/null/model_66/results.pickle'"
     ]
    }
   ],
   "source": [
    "error = 1\n",
    "phys_rmsd_train = []\n",
    "phys_rmsd_test = []\n",
    "ml_rmsd_train = []\n",
    "ml_rmsd_test = []\n",
    "for i in range(100):\n",
    "    file = open('tests/null/model_'+str(i)+'/results.pickle','rb')\n",
    "    results = pickle.load(file)\n",
    "    stats = results['stats'][0]\n",
    "    phys_rmsd_test.append(stats['phy_rmsd']['test'])\n",
    "    phys_rmsd_train.append(stats['phy_rmsd']['train'])\n",
    "    ml_rmsd_test.append(stats['ml_rmsd']['test'])\n",
    "    ml_rmsd_train.append(stats['ml_rmsd']['train'])\n",
    "print('physics model: test',np.round(np.mean(phys_rmsd_test),3),'±',np.round(error*np.std(phys_rmsd_test),3),\n",
    "          'train',np.round(np.mean(phys_rmsd_train),3),'±',np.round(error*np.std(phys_rmsd_train),3))\n",
    "print('physics + ml: test',np.round(np.mean(ml_rmsd_test),3),'±',np.round(error*np.std(ml_rmsd_test),3),\n",
    "          'train',np.round(np.mean(ml_rmsd_train),3),'±',np.round(error*np.std(ml_rmsd_train),3))"
   ]
  },
  {
   "cell_type": "code",
   "execution_count": null,
   "id": "2fbca7ec-1c76-4dba-92d8-3189ba9af635",
   "metadata": {},
   "outputs": [],
   "source": []
  }
 ],
 "metadata": {
  "kernelspec": {
   "display_name": "Python 3 (ipykernel)",
   "language": "python",
   "name": "python3"
  },
  "language_info": {
   "codemirror_mode": {
    "name": "ipython",
    "version": 3
   },
   "file_extension": ".py",
   "mimetype": "text/x-python",
   "name": "python",
   "nbconvert_exporter": "python",
   "pygments_lexer": "ipython3",
   "version": "3.9.12"
  }
 },
 "nbformat": 4,
 "nbformat_minor": 5
}
